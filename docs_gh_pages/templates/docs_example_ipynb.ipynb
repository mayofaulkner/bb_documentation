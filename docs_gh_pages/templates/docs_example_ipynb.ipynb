{
 "cells": [
  {
   "cell_type": "markdown",
   "metadata": {},
   "source": [
    "# Title of your example\n",
    "Brief description of example should go here. This example shows how to structure the introduction for\n",
    "the title and description so that it is rendered correctly during building of documentation"
   ]
  },
  {
   "cell_type": "code",
   "execution_count": null,
   "metadata": {},
   "outputs": [],
   "source": [
    "# Author: Mayo\n",
    "# Code should follow\n",
    "import numpy as np\n",
    "import pandas as pd\n",
    "\n",
    "# etc etc"
   ]
  }
 ],
 "metadata": {
  "kernelspec": {
   "display_name": "Python [conda env:ibl_docs] *",
   "language": "python",
   "name": "conda-env-ibl_docs-py"
  },
  "language_info": {
   "codemirror_mode": {
    "name": "ipython",
    "version": 3
   },
   "file_extension": ".py",
   "mimetype": "text/x-python",
   "name": "python",
   "nbconvert_exporter": "python",
   "pygments_lexer": "ipython3",
   "version": "3.7.7"
  }
 },
 "nbformat": 4,
 "nbformat_minor": 4
}
