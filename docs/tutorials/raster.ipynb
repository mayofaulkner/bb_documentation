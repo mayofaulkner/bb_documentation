{
 "cells": [
  {
   "cell_type": "markdown",
   "metadata": {},
   "source": [
    "# Tutorial 2 -looking at spikes\n",
    "## Author: M Faulkner\n",
    "## Date: 12/06/20\n",
    "\n",
    "### About the tutorial\n",
    "This tutorial shows how to load in spikes object and produce a histogram plot"
   ]
  },
  {
   "cell_type": "markdown",
   "metadata": {},
   "source": [
    "Get all the imports etttcccc"
   ]
  },
  {
   "cell_type": "code",
   "execution_count": 1,
   "metadata": {},
   "outputs": [
    {
     "name": "stdout",
     "output_type": "stream",
     "text": [
      "Connected to https://alyx.internationalbrainlab.org as mayo\n"
     ]
    }
   ],
   "source": [
    "from oneibl.one import ONE\n",
    "import alf.io\n",
    "from pathlib import Path\n",
    "import matplotlib.pyplot as plt\n",
    "import numpy as np\n",
    "\n",
    "one = ONE()\n",
    "eid = 'a3df91c8-52a6-4afa-957b-3479a7d0897c'\n",
    "probe_label = 'probe00'\n",
    "\n",
    "sess_path = one.path_from_eid(eid)\n",
    "alf_path = Path(sess_path, 'alf', probe_label)\n",
    "\n",
    "spikes = alf.io.load_object(alf_path, 'spikes')\n",
    "\n",
    "\n",
    "\n"
   ]
  },
  {
   "cell_type": "code",
   "execution_count": 2,
   "metadata": {},
   "outputs": [],
   "source": [
    " clust, counts = np.unique(spikes.clusters, return_counts=True)"
   ]
  },
  {
   "cell_type": "code",
   "execution_count": 3,
   "metadata": {},
   "outputs": [
    {
     "data": {
      "text/plain": [
       "(array([ 493639.,  574758.,  766705.,  937054., 1319065., 1097437.,\n",
       "        1172725.,  216450.,  369048.,  152453.]),\n",
       " array([  0. ,  37.5,  75. , 112.5, 150. , 187.5, 225. , 262.5, 300. ,\n",
       "        337.5, 375. ]),\n",
       " <a list of 10 Patch objects>)"
      ]
     },
     "execution_count": 3,
     "metadata": {},
     "output_type": "execute_result"
    },
    {
     "data": {
      "image/png": "[encoded data removed]",
      "text/plain": [
       "<Figure size 432x288 with 1 Axes>"
      ]
     },
     "metadata": {
      "needs_background": "light"
     },
     "output_type": "display_data"
    }
   ],
   "source": [
    "plt.hist(clust, weights=counts)"
   ]
  }
 ],
 "metadata": {
  "kernelspec": {
   "display_name": "Python [conda env:iblenv]",
   "language": "python",
   "name": "conda-env-iblenv-py"
  },
  "language_info": {
   "codemirror_mode": {
    "name": "ipython",
    "version": 3
   },
   "file_extension": ".py",
   "mimetype": "text/x-python",
   "name": "python",
   "nbconvert_exporter": "python",
   "pygments_lexer": "ipython3",
   "version": "3.7.7"
  }
 },
 "nbformat": 4,
 "nbformat_minor": 4
}
