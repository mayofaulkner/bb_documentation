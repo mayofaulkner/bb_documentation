{
 "cells": [
  {
   "cell_type": "markdown",
   "id": "5522a339",
   "metadata": {},
   "source": [
    "# Loading Raw Video Data"
   ]
  },
  {
   "cell_type": "code",
   "execution_count": 1,
   "id": "86ddc1ad",
   "metadata": {
    "execution": {
     "iopub.execute_input": "2022-12-08T09:48:10.445576Z",
     "iopub.status.busy": "2022-12-08T09:48:10.444684Z",
     "iopub.status.idle": "2022-12-08T09:48:10.454709Z",
     "shell.execute_reply": "2022-12-08T09:48:10.453983Z"
    },
    "nbsphinx": "hidden"
   },
   "outputs": [],
   "source": [
    "# Turn off logging, this is a hidden cell on docs page\n",
    "import logging\n",
    "logger = logging.getLogger('ibllib')\n",
    "logger.setLevel(logging.CRITICAL)"
   ]
  },
  {
   "cell_type": "markdown",
   "id": "acaced42",
   "metadata": {},
   "source": [
    "Raw video data recorded from body, left and right cameras "
   ]
  },
  {
   "cell_type": "markdown",
   "id": "6e05ca6b",
   "metadata": {},
   "source": [
    "## Relevant Alf objects\n",
    "* bodyCamera\n",
    "* leftCamera\n",
    "* rightCamera"
   ]
  },
  {
   "cell_type": "markdown",
   "id": "b21df21f",
   "metadata": {},
   "source": [
    "## Loading"
   ]
  },
  {
   "cell_type": "markdown",
   "id": "7aeacd83",
   "metadata": {},
   "source": [
    "### Option 1: Stream single frame"
   ]
  },
  {
   "cell_type": "code",
   "execution_count": 2,
   "id": "391b2cae",
   "metadata": {
    "execution": {
     "iopub.execute_input": "2022-12-08T09:48:10.459106Z",
     "iopub.status.busy": "2022-12-08T09:48:10.458600Z",
     "iopub.status.idle": "2022-12-08T09:48:19.223307Z",
     "shell.execute_reply": "2022-12-08T09:48:19.222411Z"
    }
   },
   "outputs": [
    {
     "name": "stderr",
     "output_type": "stream",
     "text": [
      "\r",
      "/home/runner/Downloads/ONE/openalyx.internationalbrainlab.org/hoferlab/Subjects/SWC_043/2020-09-21/001/alf/_ibl_bodyCamera.times.npy:   0%|          | 0.00/963k [00:00<?, ?B/s]"
     ]
    },
    {
     "name": "stderr",
     "output_type": "stream",
     "text": [
      "\r",
      "/home/runner/Downloads/ONE/openalyx.internationalbrainlab.org/hoferlab/Subjects/SWC_043/2020-09-21/001/alf/_ibl_bodyCamera.times.npy:  27%|██▋       | 262k/963k [00:00<00:01, 546kB/s]"
     ]
    },
    {
     "name": "stderr",
     "output_type": "stream",
     "text": [
      "\r",
      "/home/runner/Downloads/ONE/openalyx.internationalbrainlab.org/hoferlab/Subjects/SWC_043/2020-09-21/001/alf/_ibl_bodyCamera.times.npy: 100%|██████████| 963k/963k [00:00<00:00, 1.85MB/s]"
     ]
    },
    {
     "name": "stderr",
     "output_type": "stream",
     "text": [
      "\r",
      "/home/runner/Downloads/ONE/openalyx.internationalbrainlab.org/hoferlab/Subjects/SWC_043/2020-09-21/001/alf/_ibl_bodyCamera.times.npy: 100%|██████████| 963k/963k [00:00<00:00, 1.54MB/s]"
     ]
    },
    {
     "name": "stderr",
     "output_type": "stream",
     "text": [
      "\n"
     ]
    }
   ],
   "source": [
    "from one.api import ONE\n",
    "import ibllib.io.video as vidio\n",
    "\n",
    "one = ONE()\n",
    "eid = '4ecb5d24-f5cc-402c-be28-9d0f7cb14b3a'\n",
    "label = 'body' # 'left', 'right' or 'body'\n",
    "\n",
    "# Find url of video data to stream\n",
    "url = vidio.url_from_eid(eid, one=one)[label]\n",
    "\n",
    "# Load video timestamps\n",
    "ts = one.load_dataset(eid, f'*{label}Camera.times*', collection='alf')\n",
    "\n",
    "# Find the frame closest to 1000s into data\n",
    "import numpy as np\n",
    "frame_n = np.searchsorted(ts, 1000)\n",
    "\n",
    "# Stream the data\n",
    "frame = vidio.get_video_frame(url, frame_n)"
   ]
  },
  {
   "cell_type": "markdown",
   "id": "6af2dac2",
   "metadata": {},
   "source": [
    "### Option 2: Stream multiple frames (see also [Example 2](#Example-2:-Efficiently-loading-multiple-frames))"
   ]
  },
  {
   "cell_type": "code",
   "execution_count": 3,
   "id": "e20c60e9",
   "metadata": {
    "execution": {
     "iopub.execute_input": "2022-12-08T09:48:19.227496Z",
     "iopub.status.busy": "2022-12-08T09:48:19.226808Z",
     "iopub.status.idle": "2022-12-08T09:48:20.553026Z",
     "shell.execute_reply": "2022-12-08T09:48:20.550539Z"
    }
   },
   "outputs": [
    {
     "name": "stdout",
     "output_type": "stream",
     "text": [
      "\r",
      "loading frame 0/10"
     ]
    },
    {
     "name": "stdout",
     "output_type": "stream",
     "text": [
      "\r",
      "loading frame 1/10"
     ]
    },
    {
     "name": "stdout",
     "output_type": "stream",
     "text": [
      "\r",
      "loading frame 2/10"
     ]
    },
    {
     "name": "stdout",
     "output_type": "stream",
     "text": [
      "\r",
      "loading frame 3/10"
     ]
    },
    {
     "name": "stdout",
     "output_type": "stream",
     "text": [
      "\r",
      "loading frame 4/10"
     ]
    },
    {
     "name": "stdout",
     "output_type": "stream",
     "text": [
      "\r",
      "loading frame 5/10"
     ]
    },
    {
     "name": "stdout",
     "output_type": "stream",
     "text": [
      "\r",
      "loading frame 6/10"
     ]
    },
    {
     "name": "stdout",
     "output_type": "stream",
     "text": [
      "\r",
      "loading frame 7/10"
     ]
    },
    {
     "name": "stdout",
     "output_type": "stream",
     "text": [
      "\r",
      "loading frame 8/10"
     ]
    },
    {
     "name": "stdout",
     "output_type": "stream",
     "text": [
      "\r",
      "loading frame 9/10"
     ]
    },
    {
     "name": "stdout",
     "output_type": "stream",
     "text": [
      "\u001b[2K\r"
     ]
    }
   ],
   "source": [
    "# Load the first 10 video frames\n",
    "frames = vidio.get_video_frames_preload(url, range(10)) "
   ]
  },
  {
   "cell_type": "markdown",
   "id": "17518df9",
   "metadata": {},
   "source": [
    "### Option 3: Downloading full video data"
   ]
  },
  {
   "cell_type": "markdown",
   "id": "01d1d151",
   "metadata": {},
   "source": [
    "<div class=\"alert alert-warning\">\n",
    "Warning.\n",
    "\n",
    "The raw video data is very large and downloading will take a long period of time\n",
    "</div>"
   ]
  },
  {
   "cell_type": "code",
   "execution_count": 4,
   "id": "7d16c78f",
   "metadata": {
    "execution": {
     "iopub.execute_input": "2022-12-08T09:48:20.557434Z",
     "iopub.status.busy": "2022-12-08T09:48:20.557034Z",
     "iopub.status.idle": "2022-12-08T09:48:29.670515Z",
     "shell.execute_reply": "2022-12-08T09:48:29.669833Z"
    }
   },
   "outputs": [
    {
     "name": "stderr",
     "output_type": "stream",
     "text": [
      "\r",
      "/home/runner/Downloads/ONE/openalyx.internationalbrainlab.org/hoferlab/Subjects/SWC_043/2020-09-21/001/raw_video_data/_iblrig_bodyCamera.raw.mp4:   0%|          | 0.00/1.21G [00:00<?, ?B/s]"
     ]
    },
    {
     "name": "stderr",
     "output_type": "stream",
     "text": [
      "\r",
      "/home/runner/Downloads/ONE/openalyx.internationalbrainlab.org/hoferlab/Subjects/SWC_043/2020-09-21/001/raw_video_data/_iblrig_bodyCamera.raw.mp4:   0%|          | 262k/1.21G [00:00<42:33, 476kB/s]"
     ]
    },
    {
     "name": "stderr",
     "output_type": "stream",
     "text": [
      "\r",
      "/home/runner/Downloads/ONE/openalyx.internationalbrainlab.org/hoferlab/Subjects/SWC_043/2020-09-21/001/raw_video_data/_iblrig_bodyCamera.raw.mp4:   0%|          | 1.31M/1.21G [00:00<08:39, 2.33MB/s]"
     ]
    },
    {
     "name": "stderr",
     "output_type": "stream",
     "text": [
      "\r",
      "/home/runner/Downloads/ONE/openalyx.internationalbrainlab.org/hoferlab/Subjects/SWC_043/2020-09-21/001/raw_video_data/_iblrig_bodyCamera.raw.mp4:   0%|          | 4.72M/1.21G [00:00<02:24, 8.38MB/s]"
     ]
    },
    {
     "name": "stderr",
     "output_type": "stream",
     "text": [
      "\r",
      "/home/runner/Downloads/ONE/openalyx.internationalbrainlab.org/hoferlab/Subjects/SWC_043/2020-09-21/001/raw_video_data/_iblrig_bodyCamera.raw.mp4:   1%|          | 8.65M/1.21G [00:01<01:50, 11.0MB/s]"
     ]
    },
    {
     "name": "stderr",
     "output_type": "stream",
     "text": [
      "\r",
      "/home/runner/Downloads/ONE/openalyx.internationalbrainlab.org/hoferlab/Subjects/SWC_043/2020-09-21/001/raw_video_data/_iblrig_bodyCamera.raw.mp4:   1%|          | 14.7M/1.21G [00:01<01:04, 18.6MB/s]"
     ]
    },
    {
     "name": "stderr",
     "output_type": "stream",
     "text": [
      "\r",
      "/home/runner/Downloads/ONE/openalyx.internationalbrainlab.org/hoferlab/Subjects/SWC_043/2020-09-21/001/raw_video_data/_iblrig_bodyCamera.raw.mp4:   1%|▏         | 17.3M/1.21G [00:01<01:15, 15.9MB/s]"
     ]
    },
    {
     "name": "stderr",
     "output_type": "stream",
     "text": [
      "\r",
      "/home/runner/Downloads/ONE/openalyx.internationalbrainlab.org/hoferlab/Subjects/SWC_043/2020-09-21/001/raw_video_data/_iblrig_bodyCamera.raw.mp4:   2%|▏         | 22.3M/1.21G [00:01<00:55, 21.6MB/s]"
     ]
    },
    {
     "name": "stderr",
     "output_type": "stream",
     "text": [
      "\r",
      "/home/runner/Downloads/ONE/openalyx.internationalbrainlab.org/hoferlab/Subjects/SWC_043/2020-09-21/001/raw_video_data/_iblrig_bodyCamera.raw.mp4:   3%|▎         | 33.8M/1.21G [00:01<00:29, 40.5MB/s]"
     ]
    },
    {
     "name": "stderr",
     "output_type": "stream",
     "text": [
      "\r",
      "/home/runner/Downloads/ONE/openalyx.internationalbrainlab.org/hoferlab/Subjects/SWC_043/2020-09-21/001/raw_video_data/_iblrig_bodyCamera.raw.mp4:   3%|▎         | 34.1M/1.21G [00:01<00:20, 57.6MB/s]"
     ]
    },
    {
     "name": "stderr",
     "output_type": "stream",
     "text": [
      "\r",
      "/home/runner/Downloads/ONE/openalyx.internationalbrainlab.org/hoferlab/Subjects/SWC_043/2020-09-21/001/raw_video_data/_iblrig_bodyCamera.raw.mp4:   4%|▍         | 51.9M/1.21G [00:01<00:13, 84.7MB/s]"
     ]
    },
    {
     "name": "stderr",
     "output_type": "stream",
     "text": [
      "\r",
      "/home/runner/Downloads/ONE/openalyx.internationalbrainlab.org/hoferlab/Subjects/SWC_043/2020-09-21/001/raw_video_data/_iblrig_bodyCamera.raw.mp4:   6%|▋         | 77.3M/1.21G [00:01<00:08, 127MB/s] "
     ]
    },
    {
     "name": "stderr",
     "output_type": "stream",
     "text": [
      "\r",
      "/home/runner/Downloads/ONE/openalyx.internationalbrainlab.org/hoferlab/Subjects/SWC_043/2020-09-21/001/raw_video_data/_iblrig_bodyCamera.raw.mp4:   6%|▋         | 78.1M/1.21G [00:01<00:07, 160MB/s]"
     ]
    },
    {
     "name": "stderr",
     "output_type": "stream",
     "text": [
      "\r",
      "/home/runner/Downloads/ONE/openalyx.internationalbrainlab.org/hoferlab/Subjects/SWC_043/2020-09-21/001/raw_video_data/_iblrig_bodyCamera.raw.mp4:   8%|▊         | 98.8M/1.21G [00:02<00:06, 172MB/s]"
     ]
    },
    {
     "name": "stderr",
     "output_type": "stream",
     "text": [
      "\r",
      "/home/runner/Downloads/ONE/openalyx.internationalbrainlab.org/hoferlab/Subjects/SWC_043/2020-09-21/001/raw_video_data/_iblrig_bodyCamera.raw.mp4:  10%|▉         | 118M/1.21G [00:02<00:06, 157MB/s] "
     ]
    },
    {
     "name": "stderr",
     "output_type": "stream",
     "text": [
      "\r",
      "/home/runner/Downloads/ONE/openalyx.internationalbrainlab.org/hoferlab/Subjects/SWC_043/2020-09-21/001/raw_video_data/_iblrig_bodyCamera.raw.mp4:  12%|█▏        | 144M/1.21G [00:02<00:05, 185MB/s]"
     ]
    },
    {
     "name": "stderr",
     "output_type": "stream",
     "text": [
      "\r",
      "/home/runner/Downloads/ONE/openalyx.internationalbrainlab.org/hoferlab/Subjects/SWC_043/2020-09-21/001/raw_video_data/_iblrig_bodyCamera.raw.mp4:  14%|█▍        | 170M/1.21G [00:02<00:05, 204MB/s]"
     ]
    },
    {
     "name": "stderr",
     "output_type": "stream",
     "text": [
      "\r",
      "/home/runner/Downloads/ONE/openalyx.internationalbrainlab.org/hoferlab/Subjects/SWC_043/2020-09-21/001/raw_video_data/_iblrig_bodyCamera.raw.mp4:  14%|█▍        | 170M/1.21G [00:02<00:04, 217MB/s]"
     ]
    },
    {
     "name": "stderr",
     "output_type": "stream",
     "text": [
      "\r",
      "/home/runner/Downloads/ONE/openalyx.internationalbrainlab.org/hoferlab/Subjects/SWC_043/2020-09-21/001/raw_video_data/_iblrig_bodyCamera.raw.mp4:  16%|█▌        | 193M/1.21G [00:02<00:05, 193MB/s]"
     ]
    },
    {
     "name": "stderr",
     "output_type": "stream",
     "text": [
      "\r",
      "/home/runner/Downloads/ONE/openalyx.internationalbrainlab.org/hoferlab/Subjects/SWC_043/2020-09-21/001/raw_video_data/_iblrig_bodyCamera.raw.mp4:  18%|█▊        | 213M/1.21G [00:02<00:05, 189MB/s]"
     ]
    },
    {
     "name": "stderr",
     "output_type": "stream",
     "text": [
      "\r",
      "/home/runner/Downloads/ONE/openalyx.internationalbrainlab.org/hoferlab/Subjects/SWC_043/2020-09-21/001/raw_video_data/_iblrig_bodyCamera.raw.mp4:  20%|█▉        | 238M/1.21G [00:02<00:04, 204MB/s]"
     ]
    },
    {
     "name": "stderr",
     "output_type": "stream",
     "text": [
      "\r",
      "/home/runner/Downloads/ONE/openalyx.internationalbrainlab.org/hoferlab/Subjects/SWC_043/2020-09-21/001/raw_video_data/_iblrig_bodyCamera.raw.mp4:  20%|█▉        | 239M/1.21G [00:02<00:04, 241MB/s]"
     ]
    },
    {
     "name": "stderr",
     "output_type": "stream",
     "text": [
      "\r",
      "/home/runner/Downloads/ONE/openalyx.internationalbrainlab.org/hoferlab/Subjects/SWC_043/2020-09-21/001/raw_video_data/_iblrig_bodyCamera.raw.mp4:  20%|█▉        | 239M/1.21G [00:02<00:04, 241MB/s]"
     ]
    },
    {
     "name": "stderr",
     "output_type": "stream",
     "text": [
      "\r",
      "/home/runner/Downloads/ONE/openalyx.internationalbrainlab.org/hoferlab/Subjects/SWC_043/2020-09-21/001/raw_video_data/_iblrig_bodyCamera.raw.mp4:  20%|█▉        | 240M/1.21G [00:02<00:04, 241MB/s]"
     ]
    },
    {
     "name": "stderr",
     "output_type": "stream",
     "text": [
      "\r",
      "/home/runner/Downloads/ONE/openalyx.internationalbrainlab.org/hoferlab/Subjects/SWC_043/2020-09-21/001/raw_video_data/_iblrig_bodyCamera.raw.mp4:  20%|█▉        | 240M/1.21G [00:02<00:04, 241MB/s]"
     ]
    },
    {
     "name": "stderr",
     "output_type": "stream",
     "text": [
      "\r",
      "/home/runner/Downloads/ONE/openalyx.internationalbrainlab.org/hoferlab/Subjects/SWC_043/2020-09-21/001/raw_video_data/_iblrig_bodyCamera.raw.mp4:  20%|██        | 245M/1.21G [00:02<00:04, 241MB/s]"
     ]
    },
    {
     "name": "stderr",
     "output_type": "stream",
     "text": [
      "\r",
      "/home/runner/Downloads/ONE/openalyx.internationalbrainlab.org/hoferlab/Subjects/SWC_043/2020-09-21/001/raw_video_data/_iblrig_bodyCamera.raw.mp4:  22%|██▏       | 270M/1.21G [00:02<00:04, 218MB/s]"
     ]
    },
    {
     "name": "stderr",
     "output_type": "stream",
     "text": [
      "\r",
      "/home/runner/Downloads/ONE/openalyx.internationalbrainlab.org/hoferlab/Subjects/SWC_043/2020-09-21/001/raw_video_data/_iblrig_bodyCamera.raw.mp4:  22%|██▏       | 270M/1.21G [00:02<00:04, 203MB/s]"
     ]
    },
    {
     "name": "stderr",
     "output_type": "stream",
     "text": [
      "\r",
      "/home/runner/Downloads/ONE/openalyx.internationalbrainlab.org/hoferlab/Subjects/SWC_043/2020-09-21/001/raw_video_data/_iblrig_bodyCamera.raw.mp4:  24%|██▍       | 291M/1.21G [00:02<00:04, 193MB/s]"
     ]
    },
    {
     "name": "stderr",
     "output_type": "stream",
     "text": [
      "\r",
      "/home/runner/Downloads/ONE/openalyx.internationalbrainlab.org/hoferlab/Subjects/SWC_043/2020-09-21/001/raw_video_data/_iblrig_bodyCamera.raw.mp4:  24%|██▍       | 292M/1.21G [00:02<00:04, 186MB/s]"
     ]
    },
    {
     "name": "stderr",
     "output_type": "stream",
     "text": [
      "\r",
      "/home/runner/Downloads/ONE/openalyx.internationalbrainlab.org/hoferlab/Subjects/SWC_043/2020-09-21/001/raw_video_data/_iblrig_bodyCamera.raw.mp4:  26%|██▌       | 312M/1.21G [00:03<00:04, 188MB/s]"
     ]
    },
    {
     "name": "stderr",
     "output_type": "stream",
     "text": [
      "\r",
      "/home/runner/Downloads/ONE/openalyx.internationalbrainlab.org/hoferlab/Subjects/SWC_043/2020-09-21/001/raw_video_data/_iblrig_bodyCamera.raw.mp4:  26%|██▌       | 312M/1.21G [00:03<00:04, 189MB/s]"
     ]
    },
    {
     "name": "stderr",
     "output_type": "stream",
     "text": [
      "\r",
      "/home/runner/Downloads/ONE/openalyx.internationalbrainlab.org/hoferlab/Subjects/SWC_043/2020-09-21/001/raw_video_data/_iblrig_bodyCamera.raw.mp4:  28%|██▊       | 339M/1.21G [00:03<00:04, 208MB/s]"
     ]
    },
    {
     "name": "stderr",
     "output_type": "stream",
     "text": [
      "\r",
      "/home/runner/Downloads/ONE/openalyx.internationalbrainlab.org/hoferlab/Subjects/SWC_043/2020-09-21/001/raw_video_data/_iblrig_bodyCamera.raw.mp4:  30%|██▉       | 361M/1.21G [00:03<00:04, 204MB/s]"
     ]
    },
    {
     "name": "stderr",
     "output_type": "stream",
     "text": [
      "\r",
      "/home/runner/Downloads/ONE/openalyx.internationalbrainlab.org/hoferlab/Subjects/SWC_043/2020-09-21/001/raw_video_data/_iblrig_bodyCamera.raw.mp4:  31%|███▏      | 381M/1.21G [00:03<00:04, 194MB/s]"
     ]
    },
    {
     "name": "stderr",
     "output_type": "stream",
     "text": [
      "\r",
      "/home/runner/Downloads/ONE/openalyx.internationalbrainlab.org/hoferlab/Subjects/SWC_043/2020-09-21/001/raw_video_data/_iblrig_bodyCamera.raw.mp4:  33%|███▎      | 405M/1.21G [00:03<00:03, 205MB/s]"
     ]
    },
    {
     "name": "stderr",
     "output_type": "stream",
     "text": [
      "\r",
      "/home/runner/Downloads/ONE/openalyx.internationalbrainlab.org/hoferlab/Subjects/SWC_043/2020-09-21/001/raw_video_data/_iblrig_bodyCamera.raw.mp4:  33%|███▎      | 406M/1.21G [00:03<00:03, 214MB/s]"
     ]
    },
    {
     "name": "stderr",
     "output_type": "stream",
     "text": [
      "\r",
      "/home/runner/Downloads/ONE/openalyx.internationalbrainlab.org/hoferlab/Subjects/SWC_043/2020-09-21/001/raw_video_data/_iblrig_bodyCamera.raw.mp4:  35%|███▌      | 431M/1.21G [00:03<00:03, 222MB/s]"
     ]
    },
    {
     "name": "stderr",
     "output_type": "stream",
     "text": [
      "\r",
      "/home/runner/Downloads/ONE/openalyx.internationalbrainlab.org/hoferlab/Subjects/SWC_043/2020-09-21/001/raw_video_data/_iblrig_bodyCamera.raw.mp4:  36%|███▌      | 431M/1.21G [00:03<00:03, 231MB/s]"
     ]
    },
    {
     "name": "stderr",
     "output_type": "stream",
     "text": [
      "\r",
      "/home/runner/Downloads/ONE/openalyx.internationalbrainlab.org/hoferlab/Subjects/SWC_043/2020-09-21/001/raw_video_data/_iblrig_bodyCamera.raw.mp4:  36%|███▌      | 433M/1.21G [00:03<00:03, 231MB/s]"
     ]
    },
    {
     "name": "stderr",
     "output_type": "stream",
     "text": [
      "\r",
      "/home/runner/Downloads/ONE/openalyx.internationalbrainlab.org/hoferlab/Subjects/SWC_043/2020-09-21/001/raw_video_data/_iblrig_bodyCamera.raw.mp4:  38%|███▊      | 457M/1.21G [00:03<00:03, 191MB/s]"
     ]
    },
    {
     "name": "stderr",
     "output_type": "stream",
     "text": [
      "\r",
      "/home/runner/Downloads/ONE/openalyx.internationalbrainlab.org/hoferlab/Subjects/SWC_043/2020-09-21/001/raw_video_data/_iblrig_bodyCamera.raw.mp4:  39%|███▉      | 477M/1.21G [00:03<00:03, 189MB/s]"
     ]
    },
    {
     "name": "stderr",
     "output_type": "stream",
     "text": [
      "\r",
      "/home/runner/Downloads/ONE/openalyx.internationalbrainlab.org/hoferlab/Subjects/SWC_043/2020-09-21/001/raw_video_data/_iblrig_bodyCamera.raw.mp4:  39%|███▉      | 479M/1.21G [00:03<00:03, 187MB/s]"
     ]
    },
    {
     "name": "stderr",
     "output_type": "stream",
     "text": [
      "\r",
      "/home/runner/Downloads/ONE/openalyx.internationalbrainlab.org/hoferlab/Subjects/SWC_043/2020-09-21/001/raw_video_data/_iblrig_bodyCamera.raw.mp4:  39%|███▉      | 479M/1.21G [00:03<00:03, 187MB/s]"
     ]
    },
    {
     "name": "stderr",
     "output_type": "stream",
     "text": [
      "\r",
      "/home/runner/Downloads/ONE/openalyx.internationalbrainlab.org/hoferlab/Subjects/SWC_043/2020-09-21/001/raw_video_data/_iblrig_bodyCamera.raw.mp4:  42%|████▏     | 506M/1.21G [00:04<00:03, 207MB/s]"
     ]
    },
    {
     "name": "stderr",
     "output_type": "stream",
     "text": [
      "\r",
      "/home/runner/Downloads/ONE/openalyx.internationalbrainlab.org/hoferlab/Subjects/SWC_043/2020-09-21/001/raw_video_data/_iblrig_bodyCamera.raw.mp4:  42%|████▏     | 507M/1.21G [00:04<00:02, 250MB/s]"
     ]
    },
    {
     "name": "stderr",
     "output_type": "stream",
     "text": [
      "\r",
      "/home/runner/Downloads/ONE/openalyx.internationalbrainlab.org/hoferlab/Subjects/SWC_043/2020-09-21/001/raw_video_data/_iblrig_bodyCamera.raw.mp4:  42%|████▏     | 507M/1.21G [00:04<00:02, 250MB/s]"
     ]
    },
    {
     "name": "stderr",
     "output_type": "stream",
     "text": [
      "\r",
      "/home/runner/Downloads/ONE/openalyx.internationalbrainlab.org/hoferlab/Subjects/SWC_043/2020-09-21/001/raw_video_data/_iblrig_bodyCamera.raw.mp4:  42%|████▏     | 507M/1.21G [00:04<00:02, 250MB/s]"
     ]
    },
    {
     "name": "stderr",
     "output_type": "stream",
     "text": [
      "\r",
      "/home/runner/Downloads/ONE/openalyx.internationalbrainlab.org/hoferlab/Subjects/SWC_043/2020-09-21/001/raw_video_data/_iblrig_bodyCamera.raw.mp4:  42%|████▏     | 508M/1.21G [00:04<00:02, 250MB/s]"
     ]
    },
    {
     "name": "stderr",
     "output_type": "stream",
     "text": [
      "\r",
      "/home/runner/Downloads/ONE/openalyx.internationalbrainlab.org/hoferlab/Subjects/SWC_043/2020-09-21/001/raw_video_data/_iblrig_bodyCamera.raw.mp4:  44%|████▍     | 533M/1.21G [00:04<00:03, 223MB/s]"
     ]
    },
    {
     "name": "stderr",
     "output_type": "stream",
     "text": [
      "\r",
      "/home/runner/Downloads/ONE/openalyx.internationalbrainlab.org/hoferlab/Subjects/SWC_043/2020-09-21/001/raw_video_data/_iblrig_bodyCamera.raw.mp4:  44%|████▍     | 533M/1.21G [00:04<00:03, 207MB/s]"
     ]
    },
    {
     "name": "stderr",
     "output_type": "stream",
     "text": [
      "\r",
      "/home/runner/Downloads/ONE/openalyx.internationalbrainlab.org/hoferlab/Subjects/SWC_043/2020-09-21/001/raw_video_data/_iblrig_bodyCamera.raw.mp4:  46%|████▌     | 555M/1.21G [00:04<00:03, 193MB/s]"
     ]
    },
    {
     "name": "stderr",
     "output_type": "stream",
     "text": [
      "\r",
      "/home/runner/Downloads/ONE/openalyx.internationalbrainlab.org/hoferlab/Subjects/SWC_043/2020-09-21/001/raw_video_data/_iblrig_bodyCamera.raw.mp4:  48%|████▊     | 579M/1.21G [00:04<00:03, 206MB/s]"
     ]
    },
    {
     "name": "stderr",
     "output_type": "stream",
     "text": [
      "\r",
      "/home/runner/Downloads/ONE/openalyx.internationalbrainlab.org/hoferlab/Subjects/SWC_043/2020-09-21/001/raw_video_data/_iblrig_bodyCamera.raw.mp4:  48%|████▊     | 579M/1.21G [00:04<00:02, 215MB/s]"
     ]
    },
    {
     "name": "stderr",
     "output_type": "stream",
     "text": [
      "\r",
      "/home/runner/Downloads/ONE/openalyx.internationalbrainlab.org/hoferlab/Subjects/SWC_043/2020-09-21/001/raw_video_data/_iblrig_bodyCamera.raw.mp4:  50%|████▉     | 605M/1.21G [00:04<00:02, 223MB/s]"
     ]
    },
    {
     "name": "stderr",
     "output_type": "stream",
     "text": [
      "\r",
      "/home/runner/Downloads/ONE/openalyx.internationalbrainlab.org/hoferlab/Subjects/SWC_043/2020-09-21/001/raw_video_data/_iblrig_bodyCamera.raw.mp4:  50%|████▉     | 606M/1.21G [00:04<00:02, 228MB/s]"
     ]
    },
    {
     "name": "stderr",
     "output_type": "stream",
     "text": [
      "\r",
      "/home/runner/Downloads/ONE/openalyx.internationalbrainlab.org/hoferlab/Subjects/SWC_043/2020-09-21/001/raw_video_data/_iblrig_bodyCamera.raw.mp4:  52%|█████▏    | 631M/1.21G [00:04<00:02, 219MB/s]"
     ]
    },
    {
     "name": "stderr",
     "output_type": "stream",
     "text": [
      "\r",
      "/home/runner/Downloads/ONE/openalyx.internationalbrainlab.org/hoferlab/Subjects/SWC_043/2020-09-21/001/raw_video_data/_iblrig_bodyCamera.raw.mp4:  52%|█████▏    | 632M/1.21G [00:04<00:02, 205MB/s]"
     ]
    },
    {
     "name": "stderr",
     "output_type": "stream",
     "text": [
      "\r",
      "/home/runner/Downloads/ONE/openalyx.internationalbrainlab.org/hoferlab/Subjects/SWC_043/2020-09-21/001/raw_video_data/_iblrig_bodyCamera.raw.mp4:  52%|█████▏    | 633M/1.21G [00:04<00:02, 205MB/s]"
     ]
    },
    {
     "name": "stderr",
     "output_type": "stream",
     "text": [
      "\r",
      "/home/runner/Downloads/ONE/openalyx.internationalbrainlab.org/hoferlab/Subjects/SWC_043/2020-09-21/001/raw_video_data/_iblrig_bodyCamera.raw.mp4:  52%|█████▏    | 633M/1.21G [00:04<00:02, 205MB/s]"
     ]
    },
    {
     "name": "stderr",
     "output_type": "stream",
     "text": [
      "\r",
      "/home/runner/Downloads/ONE/openalyx.internationalbrainlab.org/hoferlab/Subjects/SWC_043/2020-09-21/001/raw_video_data/_iblrig_bodyCamera.raw.mp4:  54%|█████▍    | 654M/1.21G [00:04<00:02, 193MB/s]"
     ]
    },
    {
     "name": "stderr",
     "output_type": "stream",
     "text": [
      "\r",
      "/home/runner/Downloads/ONE/openalyx.internationalbrainlab.org/hoferlab/Subjects/SWC_043/2020-09-21/001/raw_video_data/_iblrig_bodyCamera.raw.mp4:  54%|█████▍    | 655M/1.21G [00:04<00:03, 184MB/s]"
     ]
    },
    {
     "name": "stderr",
     "output_type": "stream",
     "text": [
      "\r",
      "/home/runner/Downloads/ONE/openalyx.internationalbrainlab.org/hoferlab/Subjects/SWC_043/2020-09-21/001/raw_video_data/_iblrig_bodyCamera.raw.mp4:  55%|█████▌    | 673M/1.21G [00:04<00:02, 185MB/s]"
     ]
    },
    {
     "name": "stderr",
     "output_type": "stream",
     "text": [
      "\r",
      "/home/runner/Downloads/ONE/openalyx.internationalbrainlab.org/hoferlab/Subjects/SWC_043/2020-09-21/001/raw_video_data/_iblrig_bodyCamera.raw.mp4:  57%|█████▋    | 695M/1.21G [00:04<00:02, 194MB/s]"
     ]
    },
    {
     "name": "stderr",
     "output_type": "stream",
     "text": [
      "\r",
      "/home/runner/Downloads/ONE/openalyx.internationalbrainlab.org/hoferlab/Subjects/SWC_043/2020-09-21/001/raw_video_data/_iblrig_bodyCamera.raw.mp4:  59%|█████▉    | 717M/1.21G [00:05<00:02, 202MB/s]"
     ]
    },
    {
     "name": "stderr",
     "output_type": "stream",
     "text": [
      "\r",
      "/home/runner/Downloads/ONE/openalyx.internationalbrainlab.org/hoferlab/Subjects/SWC_043/2020-09-21/001/raw_video_data/_iblrig_bodyCamera.raw.mp4:  59%|█████▉    | 718M/1.21G [00:05<00:02, 208MB/s]"
     ]
    },
    {
     "name": "stderr",
     "output_type": "stream",
     "text": [
      "\r",
      "/home/runner/Downloads/ONE/openalyx.internationalbrainlab.org/hoferlab/Subjects/SWC_043/2020-09-21/001/raw_video_data/_iblrig_bodyCamera.raw.mp4:  61%|██████    | 743M/1.21G [00:05<00:02, 220MB/s]"
     ]
    },
    {
     "name": "stderr",
     "output_type": "stream",
     "text": [
      "\r",
      "/home/runner/Downloads/ONE/openalyx.internationalbrainlab.org/hoferlab/Subjects/SWC_043/2020-09-21/001/raw_video_data/_iblrig_bodyCamera.raw.mp4:  63%|██████▎   | 766M/1.21G [00:05<00:02, 216MB/s]"
     ]
    },
    {
     "name": "stderr",
     "output_type": "stream",
     "text": [
      "\r",
      "/home/runner/Downloads/ONE/openalyx.internationalbrainlab.org/hoferlab/Subjects/SWC_043/2020-09-21/001/raw_video_data/_iblrig_bodyCamera.raw.mp4:  63%|██████▎   | 766M/1.21G [00:05<00:02, 212MB/s]"
     ]
    },
    {
     "name": "stderr",
     "output_type": "stream",
     "text": [
      "\r",
      "/home/runner/Downloads/ONE/openalyx.internationalbrainlab.org/hoferlab/Subjects/SWC_043/2020-09-21/001/raw_video_data/_iblrig_bodyCamera.raw.mp4:  63%|██████▎   | 766M/1.21G [00:05<00:02, 212MB/s]"
     ]
    },
    {
     "name": "stderr",
     "output_type": "stream",
     "text": [
      "\r",
      "/home/runner/Downloads/ONE/openalyx.internationalbrainlab.org/hoferlab/Subjects/SWC_043/2020-09-21/001/raw_video_data/_iblrig_bodyCamera.raw.mp4:  65%|██████▍   | 788M/1.21G [00:05<00:02, 210MB/s]"
     ]
    },
    {
     "name": "stderr",
     "output_type": "stream",
     "text": [
      "\r",
      "/home/runner/Downloads/ONE/openalyx.internationalbrainlab.org/hoferlab/Subjects/SWC_043/2020-09-21/001/raw_video_data/_iblrig_bodyCamera.raw.mp4:  67%|██████▋   | 809M/1.21G [00:05<00:01, 210MB/s]"
     ]
    },
    {
     "name": "stderr",
     "output_type": "stream",
     "text": [
      "\r",
      "/home/runner/Downloads/ONE/openalyx.internationalbrainlab.org/hoferlab/Subjects/SWC_043/2020-09-21/001/raw_video_data/_iblrig_bodyCamera.raw.mp4:  68%|██████▊   | 830M/1.21G [00:05<00:01, 202MB/s]"
     ]
    },
    {
     "name": "stderr",
     "output_type": "stream",
     "text": [
      "\r",
      "/home/runner/Downloads/ONE/openalyx.internationalbrainlab.org/hoferlab/Subjects/SWC_043/2020-09-21/001/raw_video_data/_iblrig_bodyCamera.raw.mp4:  71%|███████   | 858M/1.21G [00:05<00:01, 222MB/s]"
     ]
    },
    {
     "name": "stderr",
     "output_type": "stream",
     "text": [
      "\r",
      "/home/runner/Downloads/ONE/openalyx.internationalbrainlab.org/hoferlab/Subjects/SWC_043/2020-09-21/001/raw_video_data/_iblrig_bodyCamera.raw.mp4:  72%|███████▏  | 880M/1.21G [00:05<00:01, 217MB/s]"
     ]
    },
    {
     "name": "stderr",
     "output_type": "stream",
     "text": [
      "\r",
      "/home/runner/Downloads/ONE/openalyx.internationalbrainlab.org/hoferlab/Subjects/SWC_043/2020-09-21/001/raw_video_data/_iblrig_bodyCamera.raw.mp4:  74%|███████▍  | 902M/1.21G [00:05<00:01, 194MB/s]"
     ]
    },
    {
     "name": "stderr",
     "output_type": "stream",
     "text": [
      "\r",
      "/home/runner/Downloads/ONE/openalyx.internationalbrainlab.org/hoferlab/Subjects/SWC_043/2020-09-21/001/raw_video_data/_iblrig_bodyCamera.raw.mp4:  74%|███████▍  | 903M/1.21G [00:05<00:01, 170MB/s]"
     ]
    },
    {
     "name": "stderr",
     "output_type": "stream",
     "text": [
      "\r",
      "/home/runner/Downloads/ONE/openalyx.internationalbrainlab.org/hoferlab/Subjects/SWC_043/2020-09-21/001/raw_video_data/_iblrig_bodyCamera.raw.mp4:  74%|███████▍  | 903M/1.21G [00:05<00:01, 170MB/s]"
     ]
    },
    {
     "name": "stderr",
     "output_type": "stream",
     "text": [
      "\r",
      "/home/runner/Downloads/ONE/openalyx.internationalbrainlab.org/hoferlab/Subjects/SWC_043/2020-09-21/001/raw_video_data/_iblrig_bodyCamera.raw.mp4:  76%|███████▋  | 929M/1.21G [00:06<00:01, 189MB/s]"
     ]
    },
    {
     "name": "stderr",
     "output_type": "stream",
     "text": [
      "\r",
      "/home/runner/Downloads/ONE/openalyx.internationalbrainlab.org/hoferlab/Subjects/SWC_043/2020-09-21/001/raw_video_data/_iblrig_bodyCamera.raw.mp4:  76%|███████▋  | 929M/1.21G [00:06<00:01, 204MB/s]"
     ]
    },
    {
     "name": "stderr",
     "output_type": "stream",
     "text": [
      "\r",
      "/home/runner/Downloads/ONE/openalyx.internationalbrainlab.org/hoferlab/Subjects/SWC_043/2020-09-21/001/raw_video_data/_iblrig_bodyCamera.raw.mp4:  79%|███████▊  | 956M/1.21G [00:06<00:01, 221MB/s]"
     ]
    },
    {
     "name": "stderr",
     "output_type": "stream",
     "text": [
      "\r",
      "/home/runner/Downloads/ONE/openalyx.internationalbrainlab.org/hoferlab/Subjects/SWC_043/2020-09-21/001/raw_video_data/_iblrig_bodyCamera.raw.mp4:  79%|███████▉  | 957M/1.21G [00:06<00:01, 241MB/s]"
     ]
    },
    {
     "name": "stderr",
     "output_type": "stream",
     "text": [
      "\r",
      "/home/runner/Downloads/ONE/openalyx.internationalbrainlab.org/hoferlab/Subjects/SWC_043/2020-09-21/001/raw_video_data/_iblrig_bodyCamera.raw.mp4:  79%|███████▉  | 957M/1.21G [00:06<00:01, 241MB/s]"
     ]
    },
    {
     "name": "stderr",
     "output_type": "stream",
     "text": [
      "\r",
      "/home/runner/Downloads/ONE/openalyx.internationalbrainlab.org/hoferlab/Subjects/SWC_043/2020-09-21/001/raw_video_data/_iblrig_bodyCamera.raw.mp4:  81%|████████  | 981M/1.21G [00:06<00:01, 188MB/s]"
     ]
    },
    {
     "name": "stderr",
     "output_type": "stream",
     "text": [
      "\r",
      "/home/runner/Downloads/ONE/openalyx.internationalbrainlab.org/hoferlab/Subjects/SWC_043/2020-09-21/001/raw_video_data/_iblrig_bodyCamera.raw.mp4:  81%|████████  | 982M/1.21G [00:06<00:01, 148MB/s]"
     ]
    },
    {
     "name": "stderr",
     "output_type": "stream",
     "text": [
      "\r",
      "/home/runner/Downloads/ONE/openalyx.internationalbrainlab.org/hoferlab/Subjects/SWC_043/2020-09-21/001/raw_video_data/_iblrig_bodyCamera.raw.mp4:  81%|████████  | 982M/1.21G [00:06<00:01, 148MB/s]"
     ]
    },
    {
     "name": "stderr",
     "output_type": "stream",
     "text": [
      "\r",
      "/home/runner/Downloads/ONE/openalyx.internationalbrainlab.org/hoferlab/Subjects/SWC_043/2020-09-21/001/raw_video_data/_iblrig_bodyCamera.raw.mp4:  83%|████████▎ | 1.01G/1.21G [00:06<00:01, 175MB/s]"
     ]
    },
    {
     "name": "stderr",
     "output_type": "stream",
     "text": [
      "\r",
      "/home/runner/Downloads/ONE/openalyx.internationalbrainlab.org/hoferlab/Subjects/SWC_043/2020-09-21/001/raw_video_data/_iblrig_bodyCamera.raw.mp4:  83%|████████▎ | 1.01G/1.21G [00:06<00:01, 200MB/s]"
     ]
    },
    {
     "name": "stderr",
     "output_type": "stream",
     "text": [
      "\r",
      "/home/runner/Downloads/ONE/openalyx.internationalbrainlab.org/hoferlab/Subjects/SWC_043/2020-09-21/001/raw_video_data/_iblrig_bodyCamera.raw.mp4:  85%|████████▌ | 1.04G/1.21G [00:06<00:00, 209MB/s]"
     ]
    },
    {
     "name": "stderr",
     "output_type": "stream",
     "text": [
      "\r",
      "/home/runner/Downloads/ONE/openalyx.internationalbrainlab.org/hoferlab/Subjects/SWC_043/2020-09-21/001/raw_video_data/_iblrig_bodyCamera.raw.mp4:  87%|████████▋ | 1.06G/1.21G [00:06<00:00, 180MB/s]"
     ]
    },
    {
     "name": "stderr",
     "output_type": "stream",
     "text": [
      "\r",
      "/home/runner/Downloads/ONE/openalyx.internationalbrainlab.org/hoferlab/Subjects/SWC_043/2020-09-21/001/raw_video_data/_iblrig_bodyCamera.raw.mp4:  89%|████████▉ | 1.09G/1.21G [00:06<00:00, 198MB/s]"
     ]
    },
    {
     "name": "stderr",
     "output_type": "stream",
     "text": [
      "\r",
      "/home/runner/Downloads/ONE/openalyx.internationalbrainlab.org/hoferlab/Subjects/SWC_043/2020-09-21/001/raw_video_data/_iblrig_bodyCamera.raw.mp4:  91%|█████████▏| 1.11G/1.21G [00:06<00:00, 206MB/s]"
     ]
    },
    {
     "name": "stderr",
     "output_type": "stream",
     "text": [
      "\r",
      "/home/runner/Downloads/ONE/openalyx.internationalbrainlab.org/hoferlab/Subjects/SWC_043/2020-09-21/001/raw_video_data/_iblrig_bodyCamera.raw.mp4:  91%|█████████▏| 1.11G/1.21G [00:06<00:00, 215MB/s]"
     ]
    },
    {
     "name": "stderr",
     "output_type": "stream",
     "text": [
      "\r",
      "/home/runner/Downloads/ONE/openalyx.internationalbrainlab.org/hoferlab/Subjects/SWC_043/2020-09-21/001/raw_video_data/_iblrig_bodyCamera.raw.mp4:  91%|█████████▏| 1.11G/1.21G [00:06<00:00, 215MB/s]"
     ]
    },
    {
     "name": "stderr",
     "output_type": "stream",
     "text": [
      "\r",
      "/home/runner/Downloads/ONE/openalyx.internationalbrainlab.org/hoferlab/Subjects/SWC_043/2020-09-21/001/raw_video_data/_iblrig_bodyCamera.raw.mp4:  93%|█████████▎| 1.13G/1.21G [00:07<00:00, 206MB/s]"
     ]
    },
    {
     "name": "stderr",
     "output_type": "stream",
     "text": [
      "\r",
      "/home/runner/Downloads/ONE/openalyx.internationalbrainlab.org/hoferlab/Subjects/SWC_043/2020-09-21/001/raw_video_data/_iblrig_bodyCamera.raw.mp4:  93%|█████████▎| 1.13G/1.21G [00:07<00:00, 199MB/s]"
     ]
    },
    {
     "name": "stderr",
     "output_type": "stream",
     "text": [
      "\r",
      "/home/runner/Downloads/ONE/openalyx.internationalbrainlab.org/hoferlab/Subjects/SWC_043/2020-09-21/001/raw_video_data/_iblrig_bodyCamera.raw.mp4:  95%|█████████▌| 1.16G/1.21G [00:07<00:00, 195MB/s]"
     ]
    },
    {
     "name": "stderr",
     "output_type": "stream",
     "text": [
      "\r",
      "/home/runner/Downloads/ONE/openalyx.internationalbrainlab.org/hoferlab/Subjects/SWC_043/2020-09-21/001/raw_video_data/_iblrig_bodyCamera.raw.mp4:  95%|█████████▌| 1.16G/1.21G [00:07<00:00, 192MB/s]"
     ]
    },
    {
     "name": "stderr",
     "output_type": "stream",
     "text": [
      "\r",
      "/home/runner/Downloads/ONE/openalyx.internationalbrainlab.org/hoferlab/Subjects/SWC_043/2020-09-21/001/raw_video_data/_iblrig_bodyCamera.raw.mp4:  97%|█████████▋| 1.18G/1.21G [00:07<00:00, 202MB/s]"
     ]
    },
    {
     "name": "stderr",
     "output_type": "stream",
     "text": [
      "\r",
      "/home/runner/Downloads/ONE/openalyx.internationalbrainlab.org/hoferlab/Subjects/SWC_043/2020-09-21/001/raw_video_data/_iblrig_bodyCamera.raw.mp4:  97%|█████████▋| 1.18G/1.21G [00:07<00:00, 209MB/s]"
     ]
    },
    {
     "name": "stderr",
     "output_type": "stream",
     "text": [
      "\r",
      "/home/runner/Downloads/ONE/openalyx.internationalbrainlab.org/hoferlab/Subjects/SWC_043/2020-09-21/001/raw_video_data/_iblrig_bodyCamera.raw.mp4:  99%|█████████▉| 1.20G/1.21G [00:07<00:00, 212MB/s]"
     ]
    },
    {
     "name": "stderr",
     "output_type": "stream",
     "text": [
      "\r",
      "/home/runner/Downloads/ONE/openalyx.internationalbrainlab.org/hoferlab/Subjects/SWC_043/2020-09-21/001/raw_video_data/_iblrig_bodyCamera.raw.mp4: 100%|██████████| 1.21G/1.21G [00:07<00:00, 162MB/s]"
     ]
    },
    {
     "name": "stderr",
     "output_type": "stream",
     "text": [
      "\n"
     ]
    }
   ],
   "source": [
    "video_body = one.load_dataset(eid, f'*{label}Camera.raw*', collection='raw_video_data')"
   ]
  },
  {
   "cell_type": "markdown",
   "id": "137d9c48",
   "metadata": {},
   "source": [
    "## More details\n",
    "* [Description of raw video datasets](https://docs.google.com/document/d/1OqIqqakPakHXRAwceYLwFY9gOrm8_P62XIfCTnHwstg/edit#heading=h.wdlgptfwpgks)\n",
    "* [Description of video qc metrics](https://int-brain-lab.github.io/iblenv/_autosummary/ibllib.qc.camera.html)\n",
    "* [IBL video white paper](https://docs.google.com/document/u/1/d/e/2PACX-1vS2777bCbDmMre-wyeDr4t0jC-0YsV_uLtYkfS3h9zTwgC7qeMk-GUqxPqcY7ylH17I1Vo1nIuuj26L/pub)"
   ]
  },
  {
   "cell_type": "markdown",
   "id": "b86e184a",
   "metadata": {},
   "source": [
    "## Useful modules\n",
    "* [ibllib.io.video](https://int-brain-lab.github.io/iblenv/_autosummary/ibllib.io.video.html)\n",
    "* [ibllib.qc.camera](https://int-brain-lab.github.io/iblenv/_autosummary/ibllib.qc.camera.html)"
   ]
  },
  {
   "cell_type": "markdown",
   "id": "3b5633b6",
   "metadata": {},
   "source": [
    "## Exploring raw video data"
   ]
  },
  {
   "cell_type": "markdown",
   "id": "c454d311",
   "metadata": {},
   "source": [
    "### Example 1: Obtaining video meta data"
   ]
  },
  {
   "cell_type": "code",
   "execution_count": 5,
   "id": "092b33df",
   "metadata": {
    "execution": {
     "iopub.execute_input": "2022-12-08T09:48:29.674867Z",
     "iopub.status.busy": "2022-12-08T09:48:29.674136Z",
     "iopub.status.idle": "2022-12-08T09:48:30.408437Z",
     "shell.execute_reply": "2022-12-08T09:48:30.407430Z"
    }
   },
   "outputs": [
    {
     "name": "stdout",
     "output_type": "stream",
     "text": [
      "The video length = 120355\n",
      "The video fps = 30\n",
      "The video width = 640\n",
      "The video height = 512\n",
      "The video duration = 1:06:51.833333\n",
      "The video size = 1214614838\n"
     ]
    }
   ],
   "source": [
    "meta = vidio.get_video_meta(url, one=one)\n",
    "for k, v in meta.items():\n",
    "    print(f'The video {k} = {v}')"
   ]
  },
  {
   "cell_type": "markdown",
   "id": "0b668d41",
   "metadata": {},
   "source": [
    "### Example 2: Efficiently loading multiple frames"
   ]
  },
  {
   "cell_type": "code",
   "execution_count": 6,
   "id": "efb7e98b",
   "metadata": {
    "execution": {
     "iopub.execute_input": "2022-12-08T09:48:30.413978Z",
     "iopub.status.busy": "2022-12-08T09:48:30.413444Z",
     "iopub.status.idle": "2022-12-08T09:48:31.427193Z",
     "shell.execute_reply": "2022-12-08T09:48:31.426148Z"
    }
   },
   "outputs": [
    {
     "name": "stdout",
     "output_type": "stream",
     "text": [
      "\r",
      "loading frame 0/10"
     ]
    },
    {
     "name": "stdout",
     "output_type": "stream",
     "text": [
      "\r",
      "loading frame 1/10"
     ]
    },
    {
     "name": "stdout",
     "output_type": "stream",
     "text": [
      "\r",
      "loading frame 2/10"
     ]
    },
    {
     "name": "stdout",
     "output_type": "stream",
     "text": [
      "\r",
      "loading frame 3/10"
     ]
    },
    {
     "name": "stdout",
     "output_type": "stream",
     "text": [
      "\r",
      "loading frame 4/10"
     ]
    },
    {
     "name": "stdout",
     "output_type": "stream",
     "text": [
      "\r",
      "loading frame 5/10"
     ]
    },
    {
     "name": "stdout",
     "output_type": "stream",
     "text": [
      "\r",
      "loading frame 6/10"
     ]
    },
    {
     "name": "stdout",
     "output_type": "stream",
     "text": [
      "\r",
      "loading frame 7/10"
     ]
    },
    {
     "name": "stdout",
     "output_type": "stream",
     "text": [
      "\r",
      "loading frame 8/10"
     ]
    },
    {
     "name": "stdout",
     "output_type": "stream",
     "text": [
      "\r",
      "loading frame 9/10"
     ]
    },
    {
     "name": "stdout",
     "output_type": "stream",
     "text": [
      "\u001b[2K\r"
     ]
    }
   ],
   "source": [
    "# The preload function will by default pre-allocate the memory before loading the frames,\n",
    "# and will return the frames as a numpy array of the shape (l, h, w, 3), where l = the number of\n",
    "# frame indices given.  The indices must be an iterable of positive integers.  Because the videos\n",
    "# are in black and white the values of each color channel are identical.   Therefore to save on\n",
    "# memory you can provide a slice that returns only one of the three channels for each frame.  The\n",
    "# resulting shape will be (l, h, w).  NB: Any slice or boolean array may be provided which is\n",
    "# useful for cropping to an ROI.\n",
    "# \n",
    "# If you don't need to apply operations over all the fetched frames you can use the `as_list`\n",
    "# kwarg to return the frames as a list.  This is slightly faster than fetching as an ndarray.\n",
    "# \n",
    "# A warning is printed if fetching a frame fails.  The affected frames will be returned as zeros\n",
    "# or None if `as_list` is True.\n",
    "\n",
    "frames = vidio.get_video_frames_preload(url, range(10), mask=np.s_[:, :, 0])"
   ]
  },
  {
   "cell_type": "markdown",
   "id": "ea981b57",
   "metadata": {},
   "source": [
    "### Example 3: Computing Video QC for camera"
   ]
  },
  {
   "cell_type": "code",
   "execution_count": null,
   "id": "8336bc39",
   "metadata": {
    "ibl_execute": false
   },
   "outputs": [],
   "source": [
    "from ibllib.qc.camera import CameraQC\n",
    "qc = CameraQC(one.eid2path(eid), 'body', download_data=True)\n",
    "outcome, extended = qc.run()\n",
    "print(f'video QC = {outcome}')\n",
    "extended"
   ]
  },
  {
   "cell_type": "markdown",
   "id": "b56572e8",
   "metadata": {},
   "source": [
    "Information about individual qc checks can be found by looking at the docstring (replace _videoBody with check), e.g."
   ]
  },
  {
   "cell_type": "code",
   "execution_count": null,
   "id": "227b352c",
   "metadata": {
    "ibl_execute": false
   },
   "outputs": [],
   "source": [
    "help(CameraQC.check_dropped_frames)"
   ]
  },
  {
   "cell_type": "markdown",
   "id": "c0f9a005",
   "metadata": {},
   "source": [
    "## Other relevant examples\n",
    "* COMING SOON"
   ]
  }
 ],
 "metadata": {
  "celltoolbar": "Edit Metadata",
  "docs_executed": "executed",
  "kernelspec": {
   "display_name": "Python [conda env:iblenv] *",
   "language": "python",
   "name": "conda-env-iblenv-py"
  },
  "language_info": {
   "codemirror_mode": {
    "name": "ipython",
    "version": 3
   },
   "file_extension": ".py",
   "mimetype": "text/x-python",
   "name": "python",
   "nbconvert_exporter": "python",
   "pygments_lexer": "ipython3",
   "version": "3.9.15"
  }
 },
 "nbformat": 4,
 "nbformat_minor": 5
}
