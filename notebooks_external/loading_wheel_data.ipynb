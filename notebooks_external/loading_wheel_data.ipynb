{
 "cells": [
  {
   "cell_type": "markdown",
   "id": "72bb4faa",
   "metadata": {},
   "source": [
    "# Loading Wheel Data"
   ]
  },
  {
   "cell_type": "code",
   "execution_count": 1,
   "id": "41f0fec2",
   "metadata": {
    "execution": {
     "iopub.execute_input": "2022-12-08T09:51:39.789467Z",
     "iopub.status.busy": "2022-12-08T09:51:39.788778Z",
     "iopub.status.idle": "2022-12-08T09:51:39.798523Z",
     "shell.execute_reply": "2022-12-08T09:51:39.797752Z"
    },
    "nbsphinx": "hidden"
   },
   "outputs": [],
   "source": [
    "# Turn off logging, this is a hidden cell on docs page\n",
    "import logging\n",
    "logger = logging.getLogger('ibllib')\n",
    "logger.setLevel(logging.CRITICAL)"
   ]
  },
  {
   "cell_type": "markdown",
   "id": "5996744e",
   "metadata": {},
   "source": [
    "Wheel data recorded during task"
   ]
  },
  {
   "cell_type": "markdown",
   "id": "4bafefa8",
   "metadata": {},
   "source": [
    "## Relevant Alf objects\n",
    "* wheel\n",
    "* wheelMoves"
   ]
  },
  {
   "cell_type": "markdown",
   "id": "5c04be5e",
   "metadata": {},
   "source": [
    "## Loading"
   ]
  },
  {
   "cell_type": "code",
   "execution_count": 2,
   "id": "7e8100a7",
   "metadata": {
    "execution": {
     "iopub.execute_input": "2022-12-08T09:51:39.802474Z",
     "iopub.status.busy": "2022-12-08T09:51:39.801949Z",
     "iopub.status.idle": "2022-12-08T09:51:46.617084Z",
     "shell.execute_reply": "2022-12-08T09:51:46.615835Z"
    }
   },
   "outputs": [
    {
     "name": "stderr",
     "output_type": "stream",
     "text": [
      "\r",
      "/home/runner/Downloads/ONE/openalyx.internationalbrainlab.org/hoferlab/Subjects/SWC_043/2020-09-21/001/alf/_ibl_wheel.timestamps.npy:   0%|          | 0.00/8.08M [00:00<?, ?B/s]"
     ]
    },
    {
     "name": "stderr",
     "output_type": "stream",
     "text": [
      "\r",
      "/home/runner/Downloads/ONE/openalyx.internationalbrainlab.org/hoferlab/Subjects/SWC_043/2020-09-21/001/alf/_ibl_wheel.timestamps.npy:   3%|▎         | 262k/8.08M [00:00<00:16, 461kB/s]"
     ]
    },
    {
     "name": "stderr",
     "output_type": "stream",
     "text": [
      "\r",
      "/home/runner/Downloads/ONE/openalyx.internationalbrainlab.org/hoferlab/Subjects/SWC_043/2020-09-21/001/alf/_ibl_wheel.timestamps.npy:  16%|█▌        | 1.31M/8.08M [00:00<00:02, 2.28MB/s]"
     ]
    },
    {
     "name": "stderr",
     "output_type": "stream",
     "text": [
      "\r",
      "/home/runner/Downloads/ONE/openalyx.internationalbrainlab.org/hoferlab/Subjects/SWC_043/2020-09-21/001/alf/_ibl_wheel.timestamps.npy:  58%|█████▊    | 4.72M/8.08M [00:00<00:00, 8.22MB/s]"
     ]
    },
    {
     "name": "stderr",
     "output_type": "stream",
     "text": [
      "\r",
      "/home/runner/Downloads/ONE/openalyx.internationalbrainlab.org/hoferlab/Subjects/SWC_043/2020-09-21/001/alf/_ibl_wheel.timestamps.npy: 100%|██████████| 8.08M/8.08M [00:00<00:00, 8.70MB/s]"
     ]
    },
    {
     "name": "stderr",
     "output_type": "stream",
     "text": [
      "\n"
     ]
    },
    {
     "name": "stderr",
     "output_type": "stream",
     "text": [
      "\r",
      "/home/runner/Downloads/ONE/openalyx.internationalbrainlab.org/hoferlab/Subjects/SWC_043/2020-09-21/001/alf/_ibl_wheel.position.npy:   0%|          | 0.00/8.08M [00:00<?, ?B/s]"
     ]
    },
    {
     "name": "stderr",
     "output_type": "stream",
     "text": [
      "\r",
      "/home/runner/Downloads/ONE/openalyx.internationalbrainlab.org/hoferlab/Subjects/SWC_043/2020-09-21/001/alf/_ibl_wheel.position.npy:   3%|▎         | 262k/8.08M [00:00<00:07, 990kB/s]"
     ]
    },
    {
     "name": "stderr",
     "output_type": "stream",
     "text": [
      "\r",
      "/home/runner/Downloads/ONE/openalyx.internationalbrainlab.org/hoferlab/Subjects/SWC_043/2020-09-21/001/alf/_ibl_wheel.position.npy:  75%|███████▍  | 6.03M/8.08M [00:00<00:00, 18.0MB/s]"
     ]
    },
    {
     "name": "stderr",
     "output_type": "stream",
     "text": [
      "\r",
      "/home/runner/Downloads/ONE/openalyx.internationalbrainlab.org/hoferlab/Subjects/SWC_043/2020-09-21/001/alf/_ibl_wheel.position.npy: 100%|██████████| 8.08M/8.08M [00:00<00:00, 16.3MB/s]"
     ]
    },
    {
     "name": "stderr",
     "output_type": "stream",
     "text": [
      "\n"
     ]
    },
    {
     "name": "stderr",
     "output_type": "stream",
     "text": [
      "\r",
      "/home/runner/Downloads/ONE/openalyx.internationalbrainlab.org/hoferlab/Subjects/SWC_043/2020-09-21/001/alf/_ibl_wheelMoves.peakAmplitude.npy:   0%|          | 0.00/13.4k [00:00<?, ?B/s]"
     ]
    },
    {
     "name": "stderr",
     "output_type": "stream",
     "text": [
      "\r",
      "/home/runner/Downloads/ONE/openalyx.internationalbrainlab.org/hoferlab/Subjects/SWC_043/2020-09-21/001/alf/_ibl_wheelMoves.peakAmplitude.npy: 100%|██████████| 13.4k/13.4k [00:00<00:00, 51.2kB/s]"
     ]
    },
    {
     "name": "stderr",
     "output_type": "stream",
     "text": [
      "\r",
      "/home/runner/Downloads/ONE/openalyx.internationalbrainlab.org/hoferlab/Subjects/SWC_043/2020-09-21/001/alf/_ibl_wheelMoves.peakAmplitude.npy: 100%|██████████| 13.4k/13.4k [00:00<00:00, 50.4kB/s]"
     ]
    },
    {
     "name": "stderr",
     "output_type": "stream",
     "text": [
      "\n"
     ]
    },
    {
     "name": "stderr",
     "output_type": "stream",
     "text": [
      "\r",
      "/home/runner/Downloads/ONE/openalyx.internationalbrainlab.org/hoferlab/Subjects/SWC_043/2020-09-21/001/alf/_ibl_wheelMoves.intervals.npy:   0%|          | 0.00/26.6k [00:00<?, ?B/s]"
     ]
    },
    {
     "name": "stderr",
     "output_type": "stream",
     "text": [
      "\r",
      "/home/runner/Downloads/ONE/openalyx.internationalbrainlab.org/hoferlab/Subjects/SWC_043/2020-09-21/001/alf/_ibl_wheelMoves.intervals.npy: 100%|██████████| 26.6k/26.6k [00:00<00:00, 135kB/s]"
     ]
    },
    {
     "name": "stderr",
     "output_type": "stream",
     "text": [
      "\r",
      "/home/runner/Downloads/ONE/openalyx.internationalbrainlab.org/hoferlab/Subjects/SWC_043/2020-09-21/001/alf/_ibl_wheelMoves.intervals.npy: 100%|██████████| 26.6k/26.6k [00:00<00:00, 131kB/s]"
     ]
    },
    {
     "name": "stderr",
     "output_type": "stream",
     "text": [
      "\n"
     ]
    }
   ],
   "source": [
    "from one.api import ONE\n",
    "one = ONE()\n",
    "eid = '4ecb5d24-f5cc-402c-be28-9d0f7cb14b3a'\n",
    "\n",
    "wheel = one.load_object(eid, 'wheel', collection='alf')\n",
    "wheelMoves = one.load_object(eid, 'wheelMoves', collection='alf')"
   ]
  },
  {
   "cell_type": "markdown",
   "id": "08106755",
   "metadata": {},
   "source": [
    "## More details\n",
    "* [Description of wheel datasets](https://docs.google.com/document/d/1OqIqqakPakHXRAwceYLwFY9gOrm8_P62XIfCTnHwstg/edit#heading=h.hnjqyfnroyya)"
   ]
  },
  {
   "cell_type": "markdown",
   "id": "357a860b",
   "metadata": {},
   "source": [
    "## Useful modules\n",
    "* [brainbox.behavior.wheel](https://int-brain-lab.github.io/iblenv/_autosummary/brainbox.behavior.wheel.html)\n",
    "* [brainbox.io.one.load_wheel_reaction_times](https://int-brain-lab.github.io/iblenv/_autosummary/brainbox.io.one.html#brainbox.io.one.load_wheel_reaction_times)\n",
    "* [ibllib.qc.task_metrics](https://int-brain-lab.github.io/iblenv/_autosummary/ibllib.qc.task_metrics.html)"
   ]
  },
  {
   "cell_type": "markdown",
   "id": "86a02336",
   "metadata": {},
   "source": [
    "## Exploring wheel data"
   ]
  },
  {
   "cell_type": "markdown",
   "id": "5a4b3e83",
   "metadata": {},
   "source": [
    "### Example 1: Extract wheel velocity"
   ]
  },
  {
   "cell_type": "code",
   "execution_count": 3,
   "id": "7a487944",
   "metadata": {
    "execution": {
     "iopub.execute_input": "2022-12-08T09:51:46.621616Z",
     "iopub.status.busy": "2022-12-08T09:51:46.620326Z",
     "iopub.status.idle": "2022-12-08T09:51:47.590512Z",
     "shell.execute_reply": "2022-12-08T09:51:47.589703Z"
    }
   },
   "outputs": [
    {
     "name": "stderr",
     "output_type": "stream",
     "text": [
      "/home/runner/work/bb_documentation/ibllib-repo/brainbox/behavior/wheel.py:84: RuntimeWarning: divide by zero encountered in divide\n",
      "  vel = dp / dt\n"
     ]
    }
   ],
   "source": [
    "from brainbox.behavior.wheel import velocity\n",
    "\n",
    "wh_velocity = velocity(wheel['timestamps'], wheel['position'])"
   ]
  },
  {
   "cell_type": "markdown",
   "id": "cb128868",
   "metadata": {},
   "source": [
    "### Example 2: Find linearly interpolated wheel position"
   ]
  },
  {
   "cell_type": "code",
   "execution_count": 4,
   "id": "a7492bfc",
   "metadata": {
    "execution": {
     "iopub.execute_input": "2022-12-08T09:51:47.594873Z",
     "iopub.status.busy": "2022-12-08T09:51:47.594095Z",
     "iopub.status.idle": "2022-12-08T09:51:47.683769Z",
     "shell.execute_reply": "2022-12-08T09:51:47.682524Z"
    }
   },
   "outputs": [],
   "source": [
    "from brainbox.behavior.wheel import interpolate_position\n",
    "\n",
    "wh_pos_lin, wh_ts_lin = interpolate_position(wheel['timestamps'], wheel['position'])"
   ]
  },
  {
   "cell_type": "markdown",
   "id": "9765d47c",
   "metadata": {},
   "source": [
    "## Other relevant examples\n",
    "* [Working with wheel data](https://int-brain-lab.github.io/iblenv/notebooks_external/docs_wheel_moves.html)"
   ]
  }
 ],
 "metadata": {
  "docs_executed": "executed",
  "kernelspec": {
   "display_name": "Python [conda env:iblenv] *",
   "language": "python",
   "name": "conda-env-iblenv-py"
  },
  "language_info": {
   "codemirror_mode": {
    "name": "ipython",
    "version": 3
   },
   "file_extension": ".py",
   "mimetype": "text/x-python",
   "name": "python",
   "nbconvert_exporter": "python",
   "pygments_lexer": "ipython3",
   "version": "3.9.15"
  }
 },
 "nbformat": 4,
 "nbformat_minor": 5
}
