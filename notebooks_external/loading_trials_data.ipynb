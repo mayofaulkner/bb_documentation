{
 "cells": [
  {
   "cell_type": "markdown",
   "id": "1aad52c3",
   "metadata": {},
   "source": [
    "# Loading Trials Data"
   ]
  },
  {
   "cell_type": "code",
   "execution_count": 1,
   "id": "5975a5a7",
   "metadata": {
    "execution": {
     "iopub.execute_input": "2022-12-08T09:48:33.125005Z",
     "iopub.status.busy": "2022-12-08T09:48:33.124506Z",
     "iopub.status.idle": "2022-12-08T09:48:33.133392Z",
     "shell.execute_reply": "2022-12-08T09:48:33.132717Z"
    },
    "nbsphinx": "hidden"
   },
   "outputs": [],
   "source": [
    "# Turn off logging, this is a hidden cell on docs page\n",
    "import logging\n",
    "logger = logging.getLogger('ibllib')\n",
    "logger.setLevel(logging.CRITICAL)"
   ]
  },
  {
   "cell_type": "markdown",
   "id": "b2726c10",
   "metadata": {},
   "source": [
    "Task related behavioral data"
   ]
  },
  {
   "cell_type": "markdown",
   "id": "e4e526a8",
   "metadata": {},
   "source": [
    "## Relevant Alf objects\n",
    "* trials"
   ]
  },
  {
   "cell_type": "markdown",
   "id": "0514237a",
   "metadata": {},
   "source": [
    "## Loading"
   ]
  },
  {
   "cell_type": "code",
   "execution_count": 2,
   "id": "544f4e8d",
   "metadata": {
    "execution": {
     "iopub.execute_input": "2022-12-08T09:48:33.137036Z",
     "iopub.status.busy": "2022-12-08T09:48:33.136561Z",
     "iopub.status.idle": "2022-12-08T09:48:37.295913Z",
     "shell.execute_reply": "2022-12-08T09:48:37.295080Z"
    }
   },
   "outputs": [
    {
     "name": "stderr",
     "output_type": "stream",
     "text": [
      "\r",
      "/home/runner/Downloads/ONE/openalyx.internationalbrainlab.org/hoferlab/Subjects/SWC_043/2020-09-21/001/alf/_ibl_trials.goCueTrigger_times.npy:   0%|          | 0.00/4.36k [00:00<?, ?B/s]"
     ]
    },
    {
     "name": "stderr",
     "output_type": "stream",
     "text": [
      "\r",
      "/home/runner/Downloads/ONE/openalyx.internationalbrainlab.org/hoferlab/Subjects/SWC_043/2020-09-21/001/alf/_ibl_trials.goCueTrigger_times.npy: 100%|██████████| 4.36k/4.36k [00:00<00:00, 20.9kB/s]"
     ]
    },
    {
     "name": "stderr",
     "output_type": "stream",
     "text": [
      "\r",
      "/home/runner/Downloads/ONE/openalyx.internationalbrainlab.org/hoferlab/Subjects/SWC_043/2020-09-21/001/alf/_ibl_trials.goCueTrigger_times.npy: 100%|██████████| 4.36k/4.36k [00:00<00:00, 20.6kB/s]"
     ]
    },
    {
     "name": "stderr",
     "output_type": "stream",
     "text": [
      "\n"
     ]
    },
    {
     "name": "stderr",
     "output_type": "stream",
     "text": [
      "\r",
      "/home/runner/Downloads/ONE/openalyx.internationalbrainlab.org/hoferlab/Subjects/SWC_043/2020-09-21/001/alf/_ibl_trials.table.pqt:   0%|          | 0.00/45.0k [00:00<?, ?B/s]"
     ]
    },
    {
     "name": "stderr",
     "output_type": "stream",
     "text": [
      "\r",
      "/home/runner/Downloads/ONE/openalyx.internationalbrainlab.org/hoferlab/Subjects/SWC_043/2020-09-21/001/alf/_ibl_trials.table.pqt: 100%|██████████| 45.0k/45.0k [00:00<00:00, 147kB/s]"
     ]
    },
    {
     "name": "stderr",
     "output_type": "stream",
     "text": [
      "\r",
      "/home/runner/Downloads/ONE/openalyx.internationalbrainlab.org/hoferlab/Subjects/SWC_043/2020-09-21/001/alf/_ibl_trials.table.pqt: 100%|██████████| 45.0k/45.0k [00:00<00:00, 144kB/s]"
     ]
    },
    {
     "name": "stderr",
     "output_type": "stream",
     "text": [
      "\n"
     ]
    },
    {
     "name": "stderr",
     "output_type": "stream",
     "text": [
      "\r",
      "/home/runner/Downloads/ONE/openalyx.internationalbrainlab.org/hoferlab/Subjects/SWC_043/2020-09-21/001/alf/_ibl_trials.stimOff_times.npy:   0%|          | 0.00/4.36k [00:00<?, ?B/s]"
     ]
    },
    {
     "name": "stderr",
     "output_type": "stream",
     "text": [
      "\r",
      "/home/runner/Downloads/ONE/openalyx.internationalbrainlab.org/hoferlab/Subjects/SWC_043/2020-09-21/001/alf/_ibl_trials.stimOff_times.npy: 100%|██████████| 4.36k/4.36k [00:00<00:00, 23.4kB/s]"
     ]
    },
    {
     "name": "stderr",
     "output_type": "stream",
     "text": [
      "\r",
      "/home/runner/Downloads/ONE/openalyx.internationalbrainlab.org/hoferlab/Subjects/SWC_043/2020-09-21/001/alf/_ibl_trials.stimOff_times.npy: 100%|██████████| 4.36k/4.36k [00:00<00:00, 23.0kB/s]"
     ]
    },
    {
     "name": "stderr",
     "output_type": "stream",
     "text": [
      "\n"
     ]
    }
   ],
   "source": [
    "from one.api import ONE\n",
    "one = ONE()\n",
    "eid = '4ecb5d24-f5cc-402c-be28-9d0f7cb14b3a'\n",
    "trials = one.load_object(eid, 'trials', collection='alf')"
   ]
  },
  {
   "cell_type": "markdown",
   "id": "d5840fd2",
   "metadata": {},
   "source": [
    "## More details\n",
    "* [Description of trials datasets](https://docs.google.com/document/d/1OqIqqakPakHXRAwceYLwFY9gOrm8_P62XIfCTnHwstg/edit#heading=h.nvzaz0fozs8h)\n",
    "* [Decsription of task QC metrics](https://int-brain-lab.github.io/iblenv/_autosummary/ibllib.qc.task_metrics.html)"
   ]
  },
  {
   "cell_type": "markdown",
   "id": "2fcc52a0",
   "metadata": {},
   "source": [
    "## Useful modules\n",
    "* [brainbox.behavior.training](https://int-brain-lab.github.io/iblenv/_autosummary/brainbox.behavior.training.html)\n",
    "* [brainbox.behavior.pyschofit](https://int-brain-lab.github.io/iblenv/_autosummary/brainbox.behavior.pyschofit.html)\n",
    "* [brainbox.task.trials](https://int-brain-lab.github.io/iblenv/_autosummary/brainbox.task.trials.html)\n",
    "* [ibllib.qc.task_metrics](https://int-brain-lab.github.io/iblenv/_autosummary/ibllib.qc.task_metrics.html)"
   ]
  },
  {
   "cell_type": "markdown",
   "id": "cd4d3a1e",
   "metadata": {},
   "source": [
    "## Exploring trials data"
   ]
  },
  {
   "cell_type": "markdown",
   "id": "d2ef4c2b",
   "metadata": {},
   "source": [
    "### Example 1. Computing behavioral performance"
   ]
  },
  {
   "cell_type": "code",
   "execution_count": 3,
   "id": "1b1d7120",
   "metadata": {
    "execution": {
     "iopub.execute_input": "2022-12-08T09:48:37.300021Z",
     "iopub.status.busy": "2022-12-08T09:48:37.299620Z",
     "iopub.status.idle": "2022-12-08T09:48:38.701278Z",
     "shell.execute_reply": "2022-12-08T09:48:38.699717Z"
    }
   },
   "outputs": [],
   "source": [
    "from brainbox.behavior.training import compute_performance\n",
    "\n",
    "# compute performance \n",
    "performance, contrasts, n_contrasts = compute_performance(trials)\n",
    "\n",
    "# compute performance expressed as probability of choosing right\n",
    "performance, contrasts, n_contrasts = compute_performance(trials, prob_right=True)\n",
    "\n",
    "# compute performance during 0.8 biased block\n",
    "performance, contrasts, n_contrasts = compute_performance(trials, block=0.8)"
   ]
  },
  {
   "cell_type": "markdown",
   "id": "dd92d441",
   "metadata": {},
   "source": [
    "### Example 2. Filtering trials"
   ]
  },
  {
   "cell_type": "code",
   "execution_count": 4,
   "id": "a7a4b90c",
   "metadata": {
    "execution": {
     "iopub.execute_input": "2022-12-08T09:48:38.706082Z",
     "iopub.status.busy": "2022-12-08T09:48:38.705445Z",
     "iopub.status.idle": "2022-12-08T09:48:38.997834Z",
     "shell.execute_reply": "2022-12-08T09:48:38.997014Z"
    }
   },
   "outputs": [],
   "source": [
    "from brainbox.task.trials import find_trial_ids\n",
    "\n",
    "# find index for stim right trials ordered by trial number\n",
    "trial_id, _ = find_trial_ids(trials, side='right', choice='all', order='trial num')\n",
    "\n",
    "# find index for correct, stim left, 100% contrast trials ordered by reaction time\n",
    "trial_id, _ = find_trial_ids(trials, side='left', choice='correct', contrast=[1], order='reaction time')\n",
    "\n",
    "# find index for correct trials ordered by trial number sorted by stimulus side\n",
    "trial_id, _ = find_trial_ids(trials, side='left', choice='correct', order='reaction time', sort='side')"
   ]
  },
  {
   "cell_type": "markdown",
   "id": "6a7aa771",
   "metadata": {},
   "source": [
    "### Example 3. Plotting pyschometric curve"
   ]
  },
  {
   "cell_type": "code",
   "execution_count": 5,
   "id": "d401e0a9",
   "metadata": {
    "execution": {
     "iopub.execute_input": "2022-12-08T09:48:39.002058Z",
     "iopub.status.busy": "2022-12-08T09:48:39.001761Z",
     "iopub.status.idle": "2022-12-08T09:48:40.472633Z",
     "shell.execute_reply": "2022-12-08T09:48:40.471421Z"
    }
   },
   "outputs": [
    {
     "data": {
      "image/png": "[encoded data removed]",
      "text/plain": [
       "<Figure size 640x480 with 1 Axes>"
      ]
     },
     "metadata": {},
     "output_type": "display_data"
    }
   ],
   "source": [
    "from brainbox.behavior.training import plot_psychometric\n",
    "\n",
    "fig, ax = plot_psychometric(trials)"
   ]
  },
  {
   "cell_type": "markdown",
   "id": "fef72c9f",
   "metadata": {},
   "source": [
    "### Example 4: Computing Task QC for session"
   ]
  },
  {
   "cell_type": "code",
   "execution_count": null,
   "id": "6000c900",
   "metadata": {
    "ibl_execute": false
   },
   "outputs": [],
   "source": [
    "from ibllib.qc import task_metrics\n",
    "\n",
    "qc = task_metrics.TaskQC(eid)\n",
    "outcome, results = qc.run()\n",
    "print(f'QC_status: {outcome}')\n",
    "print(f'Individual QC values:')\n",
    "results"
   ]
  },
  {
   "cell_type": "markdown",
   "id": "7f5c2ee0",
   "metadata": {},
   "source": [
    "Information about individual qc checks can be found by looking at the docstring (replace `_task` with `check`), e.g."
   ]
  },
  {
   "cell_type": "code",
   "execution_count": null,
   "id": "6770bb46",
   "metadata": {
    "ibl_execute": false
   },
   "outputs": [],
   "source": [
    "help(task_metrics.check_errorCue_delays)"
   ]
  },
  {
   "cell_type": "markdown",
   "id": "5738f9fb",
   "metadata": {},
   "source": [
    "## Other relevant examples\n",
    "* COMING SOON"
   ]
  }
 ],
 "metadata": {
  "celltoolbar": "Edit Metadata",
  "docs_executed": "executed",
  "kernelspec": {
   "display_name": "Python [conda env:iblenv] *",
   "language": "python",
   "name": "conda-env-iblenv-py"
  },
  "language_info": {
   "codemirror_mode": {
    "name": "ipython",
    "version": 3
   },
   "file_extension": ".py",
   "mimetype": "text/x-python",
   "name": "python",
   "nbconvert_exporter": "python",
   "pygments_lexer": "ipython3",
   "version": "3.9.15"
  }
 },
 "nbformat": 4,
 "nbformat_minor": 5
}
